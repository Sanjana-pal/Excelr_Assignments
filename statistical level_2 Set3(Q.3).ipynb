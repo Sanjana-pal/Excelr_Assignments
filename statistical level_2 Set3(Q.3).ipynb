{
 "cells": [
  {
   "cell_type": "markdown",
   "id": "b50916e8",
   "metadata": {},
   "source": [
    "### 3.\tAuditors at a small community bank randomly sample 100 withdrawal transactions made during the week at an ATM machine located near the bank’s main branch. Over the past 2 years, the average withdrawal amount has been $50 with a standard deviation of $40. Since audit investigations are typically expensive, the auditors decide to not initiate further investigations if the mean transaction amount of the sample is between $45 and $55. What is the probability that in any given week, there will be an investigation? \n",
    " Ans: n= 100 , μ=$50, σ = $40, to find p(45<x<55)\n",
    "\n"
   ]
  },
  {
   "cell_type": "code",
   "execution_count": 1,
   "id": "061727a7",
   "metadata": {},
   "outputs": [],
   "source": [
    "from scipy import stats\n",
    "import numpy as np"
   ]
  },
  {
   "cell_type": "code",
   "execution_count": null,
   "id": "0183ab28",
   "metadata": {},
   "outputs": [],
   "source": [
    "for no investigation(45<x<55)\n",
    "for investigation 1 -(45<x<55)"
   ]
  },
  {
   "cell_type": "code",
   "execution_count": 4,
   "id": "0fa324ff",
   "metadata": {},
   "outputs": [
    {
     "data": {
      "text/plain": [
       "-1.25"
      ]
     },
     "execution_count": 4,
     "metadata": {},
     "output_type": "execute_result"
    }
   ],
   "source": [
    "#find z score at x=45,z=X-mean/sd/sqrt(n)\n",
    "z45 =(45-50)/(40/np.sqrt(100))\n",
    "z45"
   ]
  },
  {
   "cell_type": "code",
   "execution_count": 6,
   "id": "252ae284",
   "metadata": {},
   "outputs": [
    {
     "data": {
      "text/plain": [
       "1.25"
      ]
     },
     "execution_count": 6,
     "metadata": {},
     "output_type": "execute_result"
    }
   ],
   "source": [
    "# find z-score at x=55,z-mean/sd/sqrt(n)\n",
    "z55 = (55-50)/(40/np.sqrt(100))\n",
    "z55"
   ]
  },
  {
   "cell_type": "code",
   "execution_count": 7,
   "id": "db49b3b3",
   "metadata": {},
   "outputs": [
    {
     "data": {
      "text/plain": [
       "0.7887004526662893"
      ]
     },
     "execution_count": 7,
     "metadata": {},
     "output_type": "execute_result"
    }
   ],
   "source": [
    "# for no investigation(45<x<55) using z-score p(x<50)-p(x<55)\n",
    "stats.norm.cdf(1.25) - stats.norm.cdf(-1.25)"
   ]
  },
  {
   "cell_type": "code",
   "execution_count": 10,
   "id": "98daa3f4",
   "metadata": {},
   "outputs": [
    {
     "data": {
      "text/plain": [
       "(45.00000495667348, 54.99999504332652)"
      ]
     },
     "execution_count": 10,
     "metadata": {},
     "output_type": "execute_result"
    }
   ],
   "source": [
    "stats.norm.interval(0.7887, loc=50,scale=40/np.sqrt(100))"
   ]
  },
  {
   "cell_type": "code",
   "execution_count": 11,
   "id": "ba9198f2",
   "metadata": {},
   "outputs": [
    {
     "data": {
      "text/plain": [
       "0.2112995473337107"
      ]
     },
     "execution_count": 11,
     "metadata": {},
     "output_type": "execute_result"
    }
   ],
   "source": [
    "# for investigation 1-p((45<x<55))\n",
    "1-0.7887004526662893"
   ]
  },
  {
   "cell_type": "code",
   "execution_count": null,
   "id": "31e49a6b",
   "metadata": {},
   "outputs": [],
   "source": [
    "Answer is D 21.1%"
   ]
  }
 ],
 "metadata": {
  "kernelspec": {
   "display_name": "Python 3 (ipykernel)",
   "language": "python",
   "name": "python3"
  },
  "language_info": {
   "codemirror_mode": {
    "name": "ipython",
    "version": 3
   },
   "file_extension": ".py",
   "mimetype": "text/x-python",
   "name": "python",
   "nbconvert_exporter": "python",
   "pygments_lexer": "ipython3",
   "version": "3.9.13"
  }
 },
 "nbformat": 4,
 "nbformat_minor": 5
}
