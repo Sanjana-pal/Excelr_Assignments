{
 "cells": [
  {
   "cell_type": "code",
   "execution_count": 2,
   "id": "7d984d27",
   "metadata": {},
   "outputs": [],
   "source": [
    "import pandas as pd\n",
    "import numpy as np\n",
    "from scipy import stats"
   ]
  },
  {
   "cell_type": "markdown",
   "id": "5bc4dc15",
   "metadata": {},
   "source": [
    "### mean profit from the two different division is mean1 + mean2"
   ]
  },
  {
   "cell_type": "code",
   "execution_count": 3,
   "id": "8e999a39",
   "metadata": {},
   "outputs": [
    {
     "name": "stdout",
     "output_type": "stream",
     "text": [
      " mean profit Rs 540 million\n"
     ]
    }
   ],
   "source": [
    "mean = (5 + 7)\n",
    "print(\" mean profit Rs\",mean*45, 'million')"
   ]
  },
  {
   "cell_type": "markdown",
   "id": "601f9731",
   "metadata": {},
   "source": [
    "### Variace of profit from the two differnt division is SD = SD1 + SD2\n"
   ]
  },
  {
   "cell_type": "code",
   "execution_count": 5,
   "id": "ccca9080",
   "metadata": {},
   "outputs": [
    {
     "name": "stdout",
     "output_type": "stream",
     "text": [
      "Standard deviation Rs 270 million\n"
     ]
    }
   ],
   "source": [
    "SD = (3^2)*(4^2)\n",
    "print(\"Standard deviation Rs\",SD*45,'million')"
   ]
  },
  {
   "cell_type": "markdown",
   "id": "6afefcbc",
   "metadata": {},
   "source": [
    "## Q2.A.\tSpecify a Rupee range (centered on the mean) such that it contains 95% probability for the annual profit of the company."
   ]
  },
  {
   "cell_type": "code",
   "execution_count": 8,
   "id": "5595f7cd",
   "metadata": {},
   "outputs": [],
   "source": [
    "Range = stats.norm.interval(0.95,540,270)"
   ]
  },
  {
   "cell_type": "code",
   "execution_count": 9,
   "id": "9ecde419",
   "metadata": {},
   "outputs": [
    {
     "name": "stdout",
     "output_type": "stream",
     "text": [
      " Rs range (10.809724174185362, 1069.1902758258148) million\n"
     ]
    }
   ],
   "source": [
    "print(\" Rs range\",Range,'million')"
   ]
  },
  {
   "cell_type": "markdown",
   "id": "285d3850",
   "metadata": {},
   "source": [
    "## B"
   ]
  },
  {
   "cell_type": "code",
   "execution_count": null,
   "id": "9cb088da",
   "metadata": {},
   "outputs": [],
   "source": [
    "for calculating percentile we use formula = X=μ + Zσ\n",
    "Z value for the 5th percentile = -1.64"
   ]
  },
  {
   "cell_type": "code",
   "execution_count": 12,
   "id": "4e248697",
   "metadata": {},
   "outputs": [
    {
     "name": "stdout",
     "output_type": "stream",
     "text": [
      "the 5th percentile of profit 97.20000000000005 million\n"
     ]
    }
   ],
   "source": [
    "X = 540+(-1.64)*(270)\n",
    "print (\"the 5th percentile of profit\",X,'million')"
   ]
  },
  {
   "cell_type": "markdown",
   "id": "542bb1ef",
   "metadata": {},
   "source": [
    "# C"
   ]
  },
  {
   "cell_type": "code",
   "execution_count": null,
   "id": "831aa81a",
   "metadata": {},
   "outputs": [],
   "source": [
    "probability of making loss"
   ]
  },
  {
   "cell_type": "code",
   "execution_count": 14,
   "id": "45b64fbb",
   "metadata": {},
   "outputs": [
    {
     "data": {
      "text/plain": [
       "0.0477903522728147"
      ]
     },
     "execution_count": 14,
     "metadata": {},
     "output_type": "execute_result"
    }
   ],
   "source": [
    "## probability of making loss in 1 division,p(X<0)\n",
    "stats.norm.cdf(0,5,3)"
   ]
  },
  {
   "cell_type": "code",
   "execution_count": 16,
   "id": "aabe8546",
   "metadata": {},
   "outputs": [
    {
     "data": {
      "text/plain": [
       "0.040059156863817086"
      ]
     },
     "execution_count": 16,
     "metadata": {},
     "output_type": "execute_result"
    }
   ],
   "source": [
    "## probability of making loss in 2 division,p(X<0)\n",
    "stats.norm.cdf(0,7,4)\n"
   ]
  },
  {
   "cell_type": "code",
   "execution_count": null,
   "id": "ff19a6a4",
   "metadata": {},
   "outputs": [],
   "source": [
    "from above we can infer that probability of 1st division is greater than 2nd ,so the probability of making loss in 1st division more."
   ]
  }
 ],
 "metadata": {
  "kernelspec": {
   "display_name": "Python 3 (ipykernel)",
   "language": "python",
   "name": "python3"
  },
  "language_info": {
   "codemirror_mode": {
    "name": "ipython",
    "version": 3
   },
   "file_extension": ".py",
   "mimetype": "text/x-python",
   "name": "python",
   "nbconvert_exporter": "python",
   "pygments_lexer": "ipython3",
   "version": "3.9.13"
  }
 },
 "nbformat": 4,
 "nbformat_minor": 5
}
